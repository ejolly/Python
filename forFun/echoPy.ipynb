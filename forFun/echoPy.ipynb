{
 "cells": [
  {
   "cell_type": "markdown",
   "metadata": {},
   "source": [
    "## Some code playing with the Echonest API python wrapper"
   ]
  },
  {
   "cell_type": "markdown",
   "metadata": {},
   "source": [
    "[Pythondocs](http://echonest.github.io/pyechonest/)  \n",
    "[Github](https://github.com/echonest/pyechonest)  \n",
    "[API Overview](http://developer.echonest.com/docs/v4)  \n",
    "[Things you can do with the API](http://developer.echonest.com/tutorial-overview.html)  \n",
    "[Remix part of the API](http://echonest.github.io/remix/tutorial.html)  \n",
    "[More examples with Remix](http://echonest.github.io/remix/examples.html)  \n",
    "[Code for examples](https://github.com/echonest/remix-examples)  "
   ]
  },
  {
   "cell_type": "markdown",
   "metadata": {},
   "source": [
    "Resources for the Spotify web API:  \n",
    "[Python wrapper](https://github.com/plamere/spotipy)  \n",
    "[Meteor.js wrapper with links to Node.js and general client js wrappers](https://github.com/xinranxiao/meteor-spotify-web-api/)  \n"
   ]
  },
  {
   "cell_type": "code",
   "execution_count": 69,
   "metadata": {
    "collapsed": false
   },
   "outputs": [],
   "source": [
    "from pyechonest import config, artist, song\n",
    "import pandas as pd\n",
    "config.ECHO_NEST_API_KEY = 'XXXXXXXX' #retrieved from https://developer.echonest.com/account/profile\n",
    "import numpy as np\n",
    "import matplotlib.pyplot as plt\n",
    "import seaborn as sns\n",
    "%matplotlib inline"
   ]
  },
  {
   "cell_type": "markdown",
   "metadata": {},
   "source": [
    "### Query a single song, get its audio features and make a dataframe"
   ]
  },
  {
   "cell_type": "code",
   "execution_count": 4,
   "metadata": {
    "collapsed": true
   },
   "outputs": [],
   "source": [
    "songs = song.search(title='Elastic Heart',artist='Sia',buckets='id:spotify',limit=True,results=1)\n",
    "elasticHeart = songs[0]"
   ]
  },
  {
   "cell_type": "code",
   "execution_count": 5,
   "metadata": {
    "collapsed": true
   },
   "outputs": [],
   "source": [
    "elasticHeartFeatures = pd.DataFrame.from_dict(elasticHeart.audio_summary,orient='index')"
   ]
  },
  {
   "cell_type": "code",
   "execution_count": 10,
   "metadata": {
    "collapsed": false
   },
   "outputs": [
    {
     "data": {
      "text/html": [
       "<div>\n",
       "<table border=\"1\" class=\"dataframe\">\n",
       "  <thead>\n",
       "    <tr style=\"text-align: right;\">\n",
       "      <th></th>\n",
       "      <th>acousticness</th>\n",
       "      <th>analysis_url</th>\n",
       "      <th>audio_md5</th>\n",
       "      <th>danceability</th>\n",
       "      <th>duration</th>\n",
       "      <th>energy</th>\n",
       "      <th>instrumentalness</th>\n",
       "      <th>key</th>\n",
       "      <th>liveness</th>\n",
       "      <th>loudness</th>\n",
       "      <th>mode</th>\n",
       "      <th>speechiness</th>\n",
       "      <th>tempo</th>\n",
       "      <th>time_signature</th>\n",
       "      <th>valence</th>\n",
       "    </tr>\n",
       "  </thead>\n",
       "  <tbody>\n",
       "    <tr>\n",
       "      <th>0</th>\n",
       "      <td>0.021916</td>\n",
       "      <td>http://echonest-analysis.s3.amazonaws.com/TR/j...</td>\n",
       "      <td></td>\n",
       "      <td>0.670395</td>\n",
       "      <td>224.45333</td>\n",
       "      <td>0.743102</td>\n",
       "      <td>0.000014</td>\n",
       "      <td>9</td>\n",
       "      <td>0.180429</td>\n",
       "      <td>-6.031</td>\n",
       "      <td>1</td>\n",
       "      <td>0.03682</td>\n",
       "      <td>130.044</td>\n",
       "      <td>4</td>\n",
       "      <td>0.512652</td>\n",
       "    </tr>\n",
       "  </tbody>\n",
       "</table>\n",
       "</div>"
      ],
      "text/plain": [
       "   acousticness                                       analysis_url audio_md5  \\\n",
       "0      0.021916  http://echonest-analysis.s3.amazonaws.com/TR/j...             \n",
       "\n",
       "   danceability   duration    energy  instrumentalness  key  liveness  \\\n",
       "0      0.670395  224.45333  0.743102          0.000014    9  0.180429   \n",
       "\n",
       "   loudness  mode  speechiness    tempo  time_signature   valence  \n",
       "0    -6.031     1      0.03682  130.044               4  0.512652  "
      ]
     },
     "execution_count": 10,
     "metadata": {},
     "output_type": "execute_result"
    }
   ],
   "source": [
    "pd.DataFrame.from_dict([elasticHeart.audio_summary])"
   ]
  },
  {
   "cell_type": "markdown",
   "metadata": {},
   "source": [
    "### Grab and compare the hottest tracks, available in Spotify, for 2 artists on a number of audio features"
   ]
  },
  {
   "cell_type": "code",
   "execution_count": 50,
   "metadata": {
    "collapsed": false
   },
   "outputs": [],
   "source": [
    "floHottest = song.search(artist = 'Flo Rida' ,sort = 'song_hotttnesss-desc', buckets = 'id:spotify', limit = True, results = 20)\n",
    "fsongFeatures = []\n",
    "for song in floHottest:\n",
    "    fsongFeatures.append(song.audio_summary)"
   ]
  },
  {
   "cell_type": "code",
   "execution_count": 53,
   "metadata": {
    "collapsed": false
   },
   "outputs": [],
   "source": [
    "S= pd.DataFrame.from_dict(songFeatures)\n",
    "S.index = [song.title for song in siaHottest]\n",
    "S['hotness'] = [song.song_hotttnesss for song in siaHottest]"
   ]
  },
  {
   "cell_type": "code",
   "execution_count": 64,
   "metadata": {
    "collapsed": true
   },
   "outputs": [],
   "source": [
    "F= pd.DataFrame.from_dict(fsongFeatures)\n",
    "F.index = [song.title for song in floHottest]\n",
    "F['hotness'] = [song.song_hotttnesss for song in floHottest]"
   ]
  },
  {
   "cell_type": "code",
   "execution_count": 65,
   "metadata": {
    "collapsed": true
   },
   "outputs": [],
   "source": [
    "u,idx = np.unique(S.index,return_index=True)\n",
    "S = S.ix[idx,:]\n",
    "u,idx = np.unique(F.index,return_index=True)\n",
    "F = F.ix[idx,:]"
   ]
  },
  {
   "cell_type": "code",
   "execution_count": 133,
   "metadata": {
    "collapsed": false
   },
   "outputs": [
    {
     "data": {
      "image/png": "[encoded data removed]",
      "text/plain": [
       "<matplotlib.figure.Figure at 0x11296a0d0>"
      ]
     },
     "metadata": {},
     "output_type": "display_data"
    }
   ],
   "source": [
    "ax = pd.DataFrame({'Flo Rida':F.mean(), 'Sia': S.mean()}).plot(kind='bar',figsize=(18,6),rot=0, color = ['lightblue','salmon']);\n",
    "ax.set_title(\"Average Song Features for Artist's Hottest 20 tracks\",fontsize=14);\n",
    "ax.tick_params(axis='x', labelsize=12)"
   ]
  },
  {
   "cell_type": "code",
   "execution_count": 145,
   "metadata": {
    "collapsed": false
   },
   "outputs": [],
   "source": [
    "Elastic_Heart = siaHottest[5].get_tracks('spotify')"
   ]
  },
  {
   "cell_type": "code",
   "execution_count": 152,
   "metadata": {
    "collapsed": false
   },
   "outputs": [
    {
     "data": {
      "text/plain": [
       "{u'catalog': u'spotify',\n",
       " u'foreign_id': u'spotify:track:3yFdQkEQNzDwpPB1iIFtaM',\n",
       " u'foreign_release_id': u'spotify:album:2uLFriAEtIBfZvjTb1nru3',\n",
       " u'id': u'TRVJDIL14EA1351E7F'}"
      ]
     },
     "execution_count": 152,
     "metadata": {},
     "output_type": "execute_result"
    }
   ],
   "source": [
    "Elastic_Heart[1]\n"
   ]
  },
  {
   "cell_type": "code",
   "execution_count": 157,
   "metadata": {
    "collapsed": false
   },
   "outputs": [
    {
     "data": {
      "text/html": [
       "<iframe src=\"https://embed.spotify.com/?uri=spotify:track:3yFdQkEQNzDwpPB1iIFtaM\" width=\"300\" height=\"380\" frameborder=\"0\" allowtransparency=\"true\"></iframe>"
      ],
      "text/plain": [
       "<IPython.core.display.HTML object>"
      ]
     },
     "metadata": {},
     "output_type": "display_data"
    }
   ],
   "source": [
    "%%html\n",
    "<iframe src=\"https://embed.spotify.com/?uri=spotify:track:3yFdQkEQNzDwpPB1iIFtaM\" width=\"300\" height=\"380\" frameborder=\"0\" allowtransparency=\"true\"></iframe>"
   ]
  },
  {
   "cell_type": "code",
   "execution_count": null,
   "metadata": {
    "collapsed": true
   },
   "outputs": [],
   "source": []
  }
 ],
 "metadata": {
  "kernelspec": {
   "display_name": "Python 2",
   "language": "python",
   "name": "python2"
  },
  "language_info": {
   "codemirror_mode": {
    "name": "ipython",
    "version": 2
   },
   "file_extension": ".py",
   "mimetype": "text/x-python",
   "name": "python",
   "nbconvert_exporter": "python",
   "pygments_lexer": "ipython2",
   "version": "2.7.11"
  },
  "toc": {
   "toc_cell": false,
   "toc_number_sections": false,
   "toc_threshold": 4,
   "toc_window_display": true
  }
 },
 "nbformat": 4,
 "nbformat_minor": 0
}
